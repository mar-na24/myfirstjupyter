{
  "metadata": {
    "kernelspec": {
      "name": "python",
      "display_name": "Python (Pyodide)",
      "language": "python"
    },
    "language_info": {
      "codemirror_mode": {
        "name": "python",
        "version": 3
      },
      "file_extension": ".py",
      "mimetype": "text/x-python",
      "name": "python",
      "nbconvert_exporter": "python",
      "pygments_lexer": "ipython3",
      "version": "3.8"
    },
    "prev_pub_hash": "21b0d8f190cdbd1a34d5d6a486042fade70b11f13353834a1fef2c5af36428fa"
  },
  "nbformat_minor": 4,
  "nbformat": 4,
  "cells": [
    {
      "cell_type": "markdown",
      "source": "  <p style=\"text-align:center\">\n    <a href=\"https://skills.network/?utm_medium=Exinfluencer&utm_source=Exinfluencer&utm_content=000026UJ&utm_term=10006555&utm_id=NA-SkillsNetwork-Channel-SkillsNetworkCoursesIBMDeveloperSkillsNetworkPY0101ENSkillsNetwork19487395-2022-01-01\" target=\"_blank\">\n    <img src=\"https://cf-courses-data.s3.us.cloud-object-storage.appdomain.cloud/assets/logos/SN_web_lightmode.png\" width=\"200\" alt=\"Skills Network Logo\">\n    </a>\n</p>\n\n# Data Science Tools and Ecosystem\n\n\n\n",
      "metadata": {}
    },
    {
      "cell_type": "markdown",
      "source": "### In this notebook, Data Science Tools and Ecosystem are summarized.\n\nIntroduction\n\nSome of the popular languages that Data Scientists use include:\n\n1. Python\n2. R\n3. SQL\n4. Julia\n5. Java\n\nSome of the commonly used libraries by Data Scientists include:\n\n1. Pandas\n2. NumPy\n3. scikit-learn\n4. TensorFlow\n5. Keras\n\n## Data Science Tools\nThe table below lists some popular tools used in Data Science and their main functions.\n\n| Tool | Basic functions | \n|------|---------|\n| <b>Python</b> | General programming, numerical calculations, machine learning | \n|<b>R </b>| Statistical analysis and data visualization | \n|<b>SQL</b> | Queries and database management | \n|<b>NumPy</b> | Numerical calculations and work with arrays | \n|<b>IBM Watson</b>|A platform for artificial intelligence and machine learning |\n\n\n## Examples of Arithmetic Expressions\n\nArithmetic expressions are the basis of programming and data analysis, allowing basic mathematical operations to be performed. Here are some examples of common arithmetic expressions:\n\n<ul>\n  <li><b>Addition</b>: <code>1 + 2</code> equals <code> 3 </code> </li>\n  <li><b>Subtraction</b>: <code>5 - 2 </code>equals <code> 3 </code></li>\n  <li><b>Multiplication</b>: <code>2 * 3</code> equals <code> 6 </code></li>\n  <li><b>Division</b>: <code>4/2</code> equals <code> 2 </code></li>\n  <li><b>Exponentiation</b>: <code>2**2</code> leads to <code> 4 </code></li>\n  <li><b>Modulus</b>: <code>10 % 4</code> equals <code> 2 </code></li>\n</ul>\n\n## Code to multiply and add numbers\n\n\n\n",
      "metadata": {}
    },
    {
      "cell_type": "code",
      "source": "## This a simple arithmetic expression to mutiply then add integers\na = 2\nb = 3 \nsum_result = a + b\nproduct_result = a * b\nprint(\"The sum of\", a, \"and\", b, \"is:\", sum_result)\nprint(\"The product of\", a, \"and\", b, \"is:\", product_result)\n\n",
      "metadata": {
        "trusted": true
      },
      "outputs": [
        {
          "name": "stdout",
          "text": "The sum of 2 and 3 is: 5\nThe product of 2 and 3 is: 6\n",
          "output_type": "stream"
        }
      ],
      "execution_count": 7
    },
    {
      "cell_type": "markdown",
      "source": "## Code to convert minutes to hours\n",
      "metadata": {}
    },
    {
      "cell_type": "code",
      "source": "## This will convert 200 minutes to hours by diving by 60\nminutes = 200\nhours = minutes / 60\nprint(minutes, \"minutes is equal to\", hours, \"hours\")",
      "metadata": {
        "trusted": true
      },
      "outputs": [
        {
          "name": "stdout",
          "text": "200 minutes is equal to 3.3333333333333335 hours\n",
          "output_type": "stream"
        }
      ],
      "execution_count": 10
    },
    {
      "cell_type": "markdown",
      "source": "## Key Concepts in Data Science\n\nHere are some key concepts in the field of data:\n\n<ul>\n  <li><b>Databases</b>: Systems of data organization, storage and management. </li>\n  <li><b>Data Analysis</b>: The process of studying, cleaning and modeling data to obtain useful information and conclusions.</li>\n  <li><b>Machine Learning</b>: A branch of artificial intelligence that uses algorithms and statistical models to train computers without explicit programming based on data.</li>\n  <li><b>Deep Learning</b>: A branch of machine learning that uses neural networks with many layers to process and analyze data.</li>\n  <li><b>Data Visualization</b>: The process of creating graphical or interactive representations of data to facilitate understanding and analysis.</li>\n </ul>",
      "metadata": {}
    },
    {
      "cell_type": "markdown",
      "source": "## Author\n\nMari\n",
      "metadata": {}
    }
  ]
}